{
 "cells": [],
 "metadata": {},
 "nbformat": 4,
 "nbformat_minor": 5
}

#import libraries
import scanpy as sc
import numpy as np
import pandas as pd
import seaborn as sns
import warnings
from matplotlib import pyplot as plt
from scimilarity.utils import lognorm_counts, align_dataset
from scimilarity import CellQuery, align_dataset, Interpreter
plt.rcParams["figure.figsize"] = [6, 4]
sc.set_figure_params(dpi=100)
warnings.filterwarnings("ignore")

#import model
model_path = "/home/ec2-user/scimilarity/model_v1.1"
cq = CellQuery(model_path)
print(dir(cq)) #print columns within cq
print(cq.cell_metadata) #print metadata
print(cq.study_sample_index) #study_sample_index has all the stuyd IDs

#Load and process CITN data using Scimilarity pipeline
data_path = "/home/ec2-user/scimilarity/SeuratProject_updated.h5ad"
adams = sc.read(data_path) #read h5ad file
adams = align_dataset(adams, cq.gene_order) #align data with cq
adams.layers["counts"] = adams.X.copy() # Add raw counts to a new layer called "counts"
adams = lognorm_counts(adams) #re-scale to match cq
adams.obsm["X_scimilarity"] = cq.get_embeddings(adams.X) #Add X_scimilarity
sc.pp.neighbors(adams, use_rep="X_scimilarity") #Add Neighbors
sc.tl.umap(adams) #Make UMAP
sc.pl.umap(adams, color="labels.main", legend_fontsize=5, save="_umap123.png") #print UMAP to working directory

#Define signature and map to scRNAseq object
fm_basic_signature = ["CD14", "CXCL10", "B2M", "IRF1", "IFIT2", "CD86"]
sc.tl.score_genes(adams, fm_basic_signature)

#Define cells that meet selection criteria
sig_query_threshold = adams.obs.score.quantile(0.999) #Cell >99.9 percentile considered positive
cells_used_in_query = adams.obs.score >= sig_query_threshold
adams.obs["used_in_query"] = cells_used_in_query #Define these 0.1% cells
adams.obs["used_in_query"].sum() #How many total cells do we have

#Calculate centroids and cells that would be considered "pos" and "neg"
from scimilarity.utils import get_centroid
avg_cell = get_centroid(adams.layers["counts"][adams.obs["used_in_query"]])
avg_embedding = cq.get_embeddings(avg_cell)
pos = adams[adams.obs.score >= sig_query_threshold]
neg = sc.pp.subsample(
    adams[adams.obs.score < sig_query_threshold],
    n_obs=len(pos),
    random_state=0,
    copy=True,
)

#Define attribute scores of genes in the signature
explainer = Interpreter(cq.model, cq.gene_order)
attrs = explainer.get_attributions(pos.X, neg.X)
attrs_df = explainer.get_ranked_genes(attrs)
explainer.plot_ranked_genes(attrs_df, n_plot=25)

#Import Ontology information
meta = cq.cell_metadata
from scimilarity.ontologies import (
    import_cell_ontology,
    get_id_mapper,
    get_all_descendants,
)
onto = import_cell_ontology(url="http://purl.obolibrary.org/obo/cl/cl-basic.obo")
id2name = get_id_mapper(onto)

#Hone in on Monocyte and Macrophage lineage cell IDs
mono_descendents = get_all_descendants(onto, "CL:0000576", inclusive=True)
mac_descendents = get_all_descendants(onto, "CL:0000235", inclusive=True)
microglia_descendents = get_all_descendants(onto, "CL:0000129", inclusive=True)
momac_ids = pd.Index((mono_descendents | mac_descendents) - microglia_descendents)
momac_cell_types = momac_ids.map(id2name)
momac_inds = meta.prediction.isin(momac_cell_types)

#Hone in on in vitro studies and caculate scimilarity metrics
in_vitro_inds = (meta["in_vivo"] == "False").values
in_vitro_momac_inds = momac_inds & in_vitro_inds
momac_meta = meta[in_vitro_momac_inds]
momac_embeddings = cq.get_precomputed_embeddings(np.where(in_vitro_momac_inds)[0])
momac_embeddings.shape 
mac_distances = 1 - (momac_embeddings @ avg_embedding.T).flatten()
momac_meta["distance"] = mac_distances
momac_meta["similarity"] = 1 / mac_distances
momac_meta["sample"] = pd.Categorical(momac_meta["sample"])
cell_counts_per_sample = momac_meta.groupby("sample").size()
samples_w_enough_cells = cell_counts_per_sample[cell_counts_per_sample > 25].index
momac_meta = momac_meta[momac_meta["sample"].isin(samples_w_enough_cells)]
momac_meta["sample"] = momac_meta["sample"].cat.remove_unused_categories()

#Select cells and graph scimilarity between query and database
sample_order = list(momac_meta.groupby("sample")["similarity"].quantile(0.9).sort_values().index)
momac_meta["sample"] = pd.Categorical(momac_meta["sample"], categories=sample_order, ordered=True)
momac_meta["numeric_sample"] = momac_meta["sample"].cat.codes
jitter_strength = 0.1
momac_meta["jittered_sample"] = momac_meta["numeric_sample"] + np.random.uniform(
    -jitter_strength, jitter_strength, size=len(momac_meta))
sns.set(font_scale=0.6)
plt.figure(figsize=(15, 7)) #initiate plot
ax = sns.scatterplot(
    data=momac_meta,
    x="jittered_sample",
    y="similarity",
    hue="similarity",
    palette="viridis",
    linewidth=0,
    size=0.1,
    alpha=0.5,
)
ax.set_yscale("log", base=2)
ax.legend().set_visible(False)
ax.set_yticks([2, 4, 8, 16, 32, 64])
ax.set_yticklabels(["2", "4", "8", "16", "32", "64"])
ax.set_xticks(range(len(sample_order))) #Set the x-ticks based on the desired order
ax.set_xticklabels(sample_order, rotation=90)
ax.set_xlabel("");
plt.savefig("similarity_scatterplot.png", dpi=300, bbox_inches="tight")
plt.close() 

#From momac_meta dataframe define studies with the 5 top Scimilarity score

#Retrieve pre-computed embedddings of the genes in the 5 studies with the highest Scimilarty score











print(dir(cq))  # List all attributes and methods of the cq object
selected_studies = ["GSE153421", "GSE168710", "GSE159113", "GSE145809", "GSE146590"] # Select 5 studies (replace with actual study names or indices)
selected_indices = cq.study_sample_index.loc[selected_studies].values # Filter indices for the selected studies
print(selected_indices)
selected_embeddings = cq.get_embeddings(selected_indices) # Get precomputed embeddings
print(selected_embeddings)
import pandas as pd
embeddings_df = pd.DataFrame(selected_embeddings, index=selected_indices) # Convert to DataFrame
print(embeddings_df.head())


# Define the GEO IDs
geo_ids = ["GSE153421", "GSE168710", "GSE159113", "GSE145809", "GSE146590"]

# Filter indices for the given GEO IDs
filtered_indices = cq.study_sample_index.loc[geo_ids].values

# Get precomputed embeddings
embeddings = cq.get_precomputed_embeddings(filtered_indices)

# Check the shape and preview the embeddings
print("Embeddings shape:", embeddings.shape)
print("First few embeddings:", embeddings[:5])


# Filter metadata for the specific study
filtered_metadata = cq.cell_metadata[cq.cell_metadata['study'] == 'GSE153421']

# Extract the features corresponding to the filtered metadata
filtered_features = cell_query.features.loc[filtered_metadata.index]

# Update the cell_query object to include only these features
cell_query_filtered = cell_query.filter(features=filtered_features)
