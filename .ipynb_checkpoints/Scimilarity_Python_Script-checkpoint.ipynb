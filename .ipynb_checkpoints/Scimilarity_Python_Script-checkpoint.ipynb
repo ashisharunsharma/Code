{
 "cells": [],
 "metadata": {},
 "nbformat": 4,
 "nbformat_minor": 5
}

#import libraries
import scanpy as sc
from matplotlib import pyplot as plt
plt.rcParams["figure.figsize"] = [6, 4]
sc.set_figure_params(dpi=100)
import warnings
warnings.filterwarnings("ignore")
from scimilarity.utils import lognorm_counts, align_dataset
from scimilarity import CellQuery

#import model
model_path = "/home/ec2-user/scimilarity/model_v1.1"
cq = CellQuery(model_path)
print(dir(cq)) #print columns within cq
print(cq.cell_metadata) #print metadata
print(cq.study_sample_index) #study_sample_index has all the stuyd IDs

#Load and process CITN data using Scimilarity pipeline
data_path = "/home/ec2-user/scimilarity/SeuratProject_updated.h5ad"
adams = sc.read(data_path) #read h5ad file
adams = align_dataset(adams, cq.gene_order) #align data with cq
adams.layers["counts"] = adams.X.copy() # Add raw counts to a new layer called "counts"
adams = lognorm_counts(adams) #re-scale to match cq
adams.obsm["X_scimilarity"] = cq.get_embeddings(adams.X) #Add X_scimilarity
sc.pp.neighbors(adams, use_rep="X_scimilarity") #Add Neighbors
sc.tl.umap(adams) #Make UMAP
sc.pl.umap(adams, color="labels.main", legend_fontsize=5, save="_umap123.png") #print UMAP to working directory

#Defie signature and map to scRNAseq object
fm_basic_signature = ["CD14", "CXCL10", "B2M", "IRF1", "IFIT2", "CD86"]
sc.tl.score_genes(adams, fm_basic_signature)