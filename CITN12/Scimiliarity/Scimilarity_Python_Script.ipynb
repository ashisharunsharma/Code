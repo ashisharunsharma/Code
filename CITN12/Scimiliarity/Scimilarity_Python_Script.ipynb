{
 "cells": [],
 "metadata": {},
 "nbformat": 4,
 "nbformat_minor": 5
}

#import libraries
import scanpy as sc
import numpy as np
import pandas as pd
import seaborn as sns
import warnings
from matplotlib import pyplot as plt
from scimilarity.utils import lognorm_counts, align_dataset
from scimilarity.utils import get_centroid
from scimilarity import CellQuery, align_dataset, Interpreter
plt.rcParams["figure.figsize"] = [6, 4]
sc.set_figure_params(dpi=100)
warnings.filterwarnings("ignore")

#import model
model_path = "/home/ec2-user/scimilarity/model_v1.1"
cq = CellQuery(model_path)
print(dir(cq)) #print columns within cq
print(cq.cell_metadata) #print metadata
print(cq.study_sample_index) #study_sample_index has all the stuyd IDs

#Load and process CITN data using Scimilarity pipeline
data_path = "/home/ec2-user/scimilarity/SeuratProject_updated.h5ad"
adams = sc.read(data_path) #read h5ad file
adams = align_dataset(adams, cq.gene_order) #align data with cq
adams.layers["counts"] = adams.X.copy() # Add raw counts to a new layer called "counts"
adams = lognorm_counts(adams) #re-scale to match cq
adams.obsm["X_scimilarity"] = cq.get_embeddings(adams.X) #Add X_scimilarity
sc.pp.neighbors(adams, use_rep="X_scimilarity") #Add Neighbors
sc.tl.umap(adams) #Make UMAP
sc.pl.umap(adams, color="labels.main", legend_fontsize=5, save="_umap123.png") #print UMAP to working directory

#Define signature and map to scRNAseq object
Interferon_inducible_genes = ["APOL1","CASP7","IFI35","LAP3","RNF19B","SLC25A28","TRAFD1","TRIM22","APOL2","APOL6","CALCOCO2","DDX58","GBP1","HLA-A","IFI30","IFIH1","IFIT3","IRF1","NMI","PSMB10","PSMB8","PSMB9","RNF114","TAP1","UBE2L6","DDX60","HLA-B","HLA-C","IFI44L","IFIT1","IFIT5","ISG15","MX1","OAS3","OASL","PLSCR1","PSME2","RARRES3","RBCK1","RTP4","SECTM1","SQRDL","TRIM21","WARS","BST2","HLA-E","IFI44","IFIT2","IRF9","JAK2","OAS1","PSME1","STAT1","TMEM140","C5orf15","CASP1","CXCL10","DRAM1","GBP2","IDO1","IFI16","IFITM1","IRF7","OPTN","PMAIP1","SAMHD1","TDRD7","ATP10D","CTSS","EIF2AK2","FAS","HERC5","IFI6","LAMP3","NBN","PSMA4","RBM7","RSAD2","SAMD9","SERPING1","SLC15A3","STAT2","TNFSF10","XAF1","B2M","BACH1","CEACAM1","DOCK4","FAM111A","FOSL2","GCH1","GTF2B","LTBR","MCL1","TYMP","USP15","ATF3","BTN3A2","CLEC2B","CYLD","ELF1","FAM46A","IFITM3","IL15","ITM2B","LMO2","PANX1","PLAUR","RIPK2","SOD2","ST8SIA4","TAP2","TRIM5","USO1","ZNF22","ASPM","DNAJA1","DPYD","ETV7","FMR1","GOLM1","IFITM2","IL15RA","IRF2","KLF4","NAMPT","PPA1","RARS","RBMS1","SLFN12","TCIRG1","TOP1","TXNL4B","VRK2","ACSL3","ARNTL2","BAK1","BATF3","BAZ1A","BCL6","BLZF1","CD74","CEBPD","CHMP5","CTSC","DYNLT1","ETS2","FES","GSDMD","HK1","ICAM1","IL10RB","N4BP1","NUCB1","PLEKHF2","PSMA3","PSMB3","RAB27A","RAB9A","RRAGC","SBNO2","SETX","SMARCA5","SNRK","STK3","STS","TFG","TNFRSF1B","UBXN4","USP25","USP33","VEZF1","ACOT9","AFF1","ASCC3","ATP6V1B2","BAG1","C12orf4","C3orf14","CASP4","CASP8","CD164","CEBPB","CIR1","CLPX","COQ10B","CREG1","CTBS","CXCL9","DAPP1","DNAJA2","DNAJB1","DNAJC1","DUSP5","EGLN1","EIF3M","ENY2","FZD5","GLRX","GSTO1","GTF2A1","GVINP1","HIF1A","HIPK3","HIST1H2BO","HLA-F","IFNGR1","IL6ST","KARS","KIAA1033","KIF18A","LILRB1","LY6E","MEF2C","MLF1","MTF2","MTHFD2","MTIF2","NFKBIA","NR1H2","NRD1","P4HA1","PCF11","PELO","PIK3CA","POLI","PPAT","PPWD1","PTPRC","PUS3","RABAC1","RIOK3","RMI1","RNF138","SAT1","SCAMP1","SCARB2","SCN9A","SCO2","SELL","45539","SLC2A3","SMC6","SOCS3","SOS1","SPTLC2","TANK","TDP2","TMBIM1","TMEM59","TNFAIP2","UBE2D1","UBE2D3","UBR2","VAMP5","VEGFA","VPS13C","WBP4","WSB1","XIAP","ZCCHC2","ZFX","ZNF267","ZNF277"]
sc.tl.score_genes(adams, Interferon_inducible_genes)

#Define cells that meet selection criteria
sig_query_threshold = adams.obs.score.quantile(0.99) #Cell >99 percentile considered positive
cells_used_in_query = adams.obs.score >= sig_query_threshold
adams.obs["used_in_query"] = cells_used_in_query #Define these 1% cells
adams.obs["used_in_query"].sum() #How many total cells do we have

#Calculate centroids and cells that would be considered "pos" and "neg"
avg_cell = get_centroid(adams.layers["counts"][adams.obs["used_in_query"]])
avg_embedding = cq.get_embeddings(avg_cell)
pos = adams[adams.obs.score >= sig_query_threshold]
neg = sc.pp.subsample(
    adams[adams.obs.score < sig_query_threshold],
    n_obs=len(pos),
    random_state=0,
    copy=True,
)

#Define attribute scores of genes in the signature
explainer = Interpreter(cq.model, cq.gene_order)
attrs = explainer.get_attributions(pos.X, neg.X)
attrs_df = explainer.get_ranked_genes(attrs)
explainer.plot_ranked_genes(attrs_df, n_plot=25, filename = "IFI_genes_attrs_df.png")

#Import Ontology information
meta = cq.cell_metadata
from scimilarity.ontologies import (
    import_cell_ontology,
    get_id_mapper,
    get_all_descendants,
)
onto = import_cell_ontology(url="http://purl.obolibrary.org/obo/cl/cl-basic.obo")
id2name = get_id_mapper(onto)

#Hone in on Monocyte and Macrophage lineage cell IDs
mono_descendents = get_all_descendants(onto, "CL:0000576", inclusive=True)
mac_descendents = get_all_descendants(onto, "CL:0000235", inclusive=True)
T_descendents = get_all_descendants(onto, "CL:0000094", inclusive=True)
microglia_descendents = get_all_descendants(onto, "CL:0000129", inclusive=True)

##momac_ids = pd.Index((mono_descendents | T_descendents) - microglia_descendents)
momac_ids = pd.Index((mono_descendents | T_descendents))
momac_cell_types = momac_ids.map(id2name)
momac_inds = meta.prediction.isin(momac_cell_types)

#Hone in on in vitro studies and caculate scimilarity metrics
### in_vitro_inds = (meta["in_vitro"] == "False").values
in_vitro_momac_inds = momac_inds ### & in_vitro_inds
## momac_meta = meta[in_vitro_momac_inds] #Mono and Macs without in vitro
momac_meta = meta #Mono and Macs without in vitro
study_values = [
"GSE155340","GSE164033","GSE152022","GSE129139","GSE136641","GSE144507","GSE121636","GSE166218","GSE136125","GSE154879","GSE151710","GSE133656","GSE166309","GSE157600","GSE131927","GSE141872","GSE168936","GSE157829","GSE127471","GSE169279","GSE147327","GSE159977","GSE158579","GSE160400","GSE166572","GSE126184","GSE136206","GSE150178","GSE139829","GSE134388","GSE139046","GSE158886"
] # List of studies with PD1, PDL1 or immunotherapy in title/abstract
momac_meta = momac_meta[momac_meta['study'].isin(study_values)]
momac_meta['study'].unique()
momac_embeddings = cq.get_precomputed_embeddings(momac_meta['index'].values)
momac_embeddings.shape 
mac_distances = 1 - (momac_embeddings @ avg_embedding.T).flatten()
momac_meta["distance"] = mac_distances
momac_meta["similarity"] = 1 / mac_distances
momac_meta["sample"] = pd.Categorical(momac_meta["sample"])
cell_counts_per_sample = momac_meta.groupby("sample").size()
samples_w_enough_cells = cell_counts_per_sample[cell_counts_per_sample > 25].index
momac_meta = momac_meta[momac_meta["sample"].isin(samples_w_enough_cells)]
momac_meta["sample"] = momac_meta["sample"].cat.remove_unused_categories()

#Select cells and graph scimilarity between query and database
sample_order = list(momac_meta.groupby("sample")["similarity"].quantile(0.9).sort_values().index)
momac_meta["sample"] = pd.Categorical(momac_meta["sample"], categories=sample_order, ordered=True)
momac_meta["numeric_sample"] = momac_meta["sample"].cat.codes
jitter_strength = 0.1
momac_meta["jittered_sample"] = momac_meta["numeric_sample"] + np.random.uniform(
    -jitter_strength, jitter_strength, size=len(momac_meta))
sns.set(font_scale=0.6)
plt.figure(figsize=(15, 7)) #initiate plot
ax = sns.scatterplot(
    data=momac_meta,
    x="jittered_sample",
    y="similarity",
    hue="similarity",
    palette="viridis",
    linewidth=0,
    size=0.1,
    alpha=0.5,
)
ax.set_yscale("log", base=2)
ax.legend().set_visible(False)
ax.set_yticks([2, 4, 8, 16, 32, 64])
ax.set_yticklabels(["2", "4", "8", "16", "32", "64"])
ax.set_xticks(range(len(sample_order))) #Set the x-ticks based on the desired order
ax.set_xticklabels(sample_order, rotation=90)
ax.set_xlabel("");
plt.savefig("PD1_All_Cells_IFN_similarity_scatterplot.png", dpi=300, bbox_inches="tight")
plt.close() 